{
  "nbformat": 4,
  "nbformat_minor": 0,
  "metadata": {
    "colab": {
      "provenance": [],
      "authorship_tag": "ABX9TyN7ZY5daRkhdjPbV30RBb/q",
      "include_colab_link": true
    },
    "kernelspec": {
      "name": "python3",
      "display_name": "Python 3"
    },
    "language_info": {
      "name": "python"
    }
  },
  "cells": [
    {
      "cell_type": "markdown",
      "metadata": {
        "id": "view-in-github",
        "colab_type": "text"
      },
      "source": [
        "<a href=\"https://colab.research.google.com/github/Dahamey/Dahamey.github.io/blob/main/Reinforcement_Learning_Q_Learning.ipynb\" target=\"_parent\"><img src=\"https://colab.research.google.com/assets/colab-badge.svg\" alt=\"Open In Colab\"/></a>"
      ]
    },
    {
      "cell_type": "markdown",
      "source": [
        "##Reinforcement Learning\n",
        "This technique is different than many of the other machine learning techniques and has many applications in training agents (an AI) to interact with enviornments like games. Rather than feeding our machine learning model millions of examples we let our model come up with its own examples by exploring an environment. The concept is simple. Humans learn by exploring and learning from mistakes and past experiences so let's have our computer do the same.\n",
        "\n"
      ],
      "metadata": {
        "id": "pfDR5mSOYnjj"
      }
    },
    {
      "cell_type": "markdown",
      "source": [
        "###Terminology\n",
        "We need to define a few key pieces of terminology.\n",
        "\n",
        "**Environment** In reinforcement learning tasks we have a notion of the enviornment. This is what our *agent* will explore. An example of an environment in the case of training an AI to play say a game of mario would be the level we are training the agent on.\n",
        "\n",
        "**Agent** an agent is an entity that is exploring the environment. Our agent will interact and take different actions within the environment. In our mario example the mario character within the game would be our agent.\n",
        "\n",
        "**State** always our agent will be in what we call a *state*. The state simply tells us about the status of the agent. The most common example of a state is the location of the agent within the environment. Moving locations would change the agents state.\n",
        "\n",
        "**Action** any interaction between the agent and environment would be considered an action. For example, moving to the left or jumping would be an action. An action may or may not change the current *state* of the agent. In fact, the act of doing nothing is an action as well! The action of say not pressing a key if we are using our mario example.\n",
        "\n",
        "**Reward** every action that our agent takes will result in a reward of some magnitude (positive or negative). The goal of our agent will be to maximize its reward in an environment. Sometimes the reward will be clear, for example if an agent performs an action which increases their score in the environment we could say they've received a positive reward. If the agent were to perform an action which results in them losing score or possibly dying in the environment then they would receive a negative reward.\n",
        "\n",
        "The most important part of reinforcement learning is determing how to reward the agent. After all, the goal of the agent is to maximize its rewards. This means we should reward the agent appropriatly such that it reaches the desired goal.\n",
        "\n"
      ],
      "metadata": {
        "id": "E9oIamm6Y5Yg"
      }
    },
    {
      "cell_type": "markdown",
      "source": [
        "###Q-Learning\n",
        "Now that we have a vague idea of how reinforcement learning works it's time to talk about a specific technique in reinforcement learning called *Q-Learning*.\n",
        "\n",
        "Q-Learning is a simple yet quite powerful technique in machine learning that involves learning a matrix of action-reward values. This matrix is often reffered to as a Q-Table or Q-Matrix. The matrix is in shape (number of possible states, number of possible actions) where each value at matrix[n, m] represents the agents expected reward given they are in state n and take action m. The Q-learning algorithm defines the way we update the values in the matrix and decide what action to take at each state. The idea is that after a succesful training/learning of this Q-Table/matrix we can determine the action an agent should take in any state by looking at that states row in the matrix and taking the maximium value column as the action.\n",
        "\n",
        "**Consider this example.**\n",
        "\n",
        "Let's say A1-A4 are the possible actions and we have 3 states represented by each row (state 1 - state 3).\n",
        "\n",
        "| A1  | A2  | A3  | A4  |\n",
        "|:--: |:--: |:--: |:--: |\n",
        "|  0  |  0  | 10  |  5  |\n",
        "|  5  | 10  |  0  |  0  |\n",
        "| 10  |  5  |  0  |  0  |\n",
        "\n",
        "If that was our Q-Table/matrix then the following would be the preffered actions in each state.\n",
        "\n",
        "> State 1: A3\n",
        "\n",
        "> State 2: A2\n",
        "\n",
        "> State 3: A1\n",
        "\n",
        "We can see that this is because the values in each of those columns are the highest for those states!\n",
        "\n"
      ],
      "metadata": {
        "id": "T6q7lK67aU5D"
      }
    },
    {
      "cell_type": "markdown",
      "source": [
        "###Learning the Q-Table\n",
        "Now how do we create this table and find those values. Well this is where we will dicuss how the Q-Learning algorithm updates the values in our Q-Table.\n",
        "\n",
        "We'll start by noting that our Q-Table starts of with all 0 values. This is because the agent has yet to learn anything about the environment.\n",
        "\n",
        "Our agent learns by exploring the environment and observing the outcome/reward from each action it takes in each state. But how does it know what action to take in each state? There are two ways that our agent can decide on which action to take.\n",
        "1. Randomly picking a valid action\n",
        "2. Using the current Q-Table to find the best action.\n",
        "\n",
        "Near the beginning of our agent learning it will mostly take random actions in order to explore the environment and enter many different states. As it starts to explore more of the environment it will start to gradually rely more on it's learned values (Q-Table) to take actions. This means that as our agent explores more of the environment it will develop a better understanding and start to take \"correct\" or better actions more often. It's important that the agent has a good balance of taking random actions and using learned values to ensure it does not get trapped in a local maximum.\n",
        "\n",
        "After each new action our agent will record the new state (if any) that it has entered and the reward that it received from taking that action. These values will be used to update the Q-Table. The agent will stop taking new actions only once a certain time limit is reached or it has achieved the goal or reached the end of the environment.\n",
        "\n",
        "####Updating Q-Values\n",
        "The formula for updating the Q-Table after each action is as follows:\n",
        "> $ Q[state, action] = Q[state, action] + \\alpha * (reward + \\gamma * max(Q[newState, :]) - Q[state, action]) $\n",
        "\n",
        "- $\\alpha$ stands for the **Learning Rate**\n",
        "\n",
        "- $\\gamma$ stands for the **Discount Factor**\n",
        "\n",
        "####Learning Rate $\\alpha$\n",
        "The learning rate $\\alpha$ is a numeric constant that defines how much change is permitted on each QTable update. A high learning rate means that each update will introduce a large change to the current state-action value. A small learning rate means that each update has a more subtle change. Modifying the learning rate will change how the agent explores the environment and how quickly it determines the final values in the QTable.\n",
        "\n",
        "####Discount Factor $\\gamma$\n",
        "Discount factor also know as gamma ($\\gamma$) is used to balance how much focus is put on the current and future reward. A high discount factor means that future rewards will be considered more heavily.\n",
        "\n",
        "<br/>\n",
        "<p>To perform updates on this table we will let the agent explpore the environment for a certain period of time and use each of its actions to make an update. Slowly we should start to notice the agent learning and choosing better actions. </p>\n",
        "\n"
      ],
      "metadata": {
        "id": "ACx4uvIGbFb1"
      }
    },
    {
      "cell_type": "markdown",
      "source": [
        "##Q-Learning Example\n",
        "For this example we will use the Q-Learning algorithm to train an agent to navigate a popular environment from the [Open AI Gym](https://gym.openai.com/). The Open AI Gym was developed so programmers could practice machine learning using unique environments. Intersting fact, Elon Musk is one of the founders of OpenAI!\n",
        "\n",
        "Let's start by looking at what Open AI Gym is."
      ],
      "metadata": {
        "id": "2k4w91-Uc6vi"
      }
    },
    {
      "cell_type": "code",
      "execution_count": 1,
      "metadata": {
        "id": "2N0Ke5a5YYNr"
      },
      "outputs": [],
      "source": [
        "import gym"
      ]
    },
    {
      "cell_type": "markdown",
      "source": [
        "Once we import gym we can load an environment using the line ```gym.make(\"environment\")```."
      ],
      "metadata": {
        "id": "8Y2HNM47dIMC"
      }
    },
    {
      "cell_type": "code",
      "source": [
        "# We're going to use the FrozenLake environment\n",
        "env = gym.make(\"FrozenLake-v1\")"
      ],
      "metadata": {
        "colab": {
          "base_uri": "https://localhost:8080/"
        },
        "id": "biIa_nUldFzf",
        "outputId": "9c2f702c-eca2-4311-ab8a-f69069307bfc"
      },
      "execution_count": 2,
      "outputs": [
        {
          "output_type": "stream",
          "name": "stderr",
          "text": [
            "/usr/local/lib/python3.10/dist-packages/ipykernel/ipkernel.py:283: DeprecationWarning: `should_run_async` will not call `transform_cell` automatically in the future. Please pass the result to `transformed_cell` argument and any exception that happen during thetransform in `preprocessing_exc_tuple` in IPython 7.17 and above.\n",
            "  and should_run_async(code)\n",
            "/usr/local/lib/python3.10/dist-packages/gym/core.py:317: DeprecationWarning: \u001b[33mWARN: Initializing wrapper in old step API which returns one bool instead of two. It is recommended to set `new_step_api=True` to use new step API. This will be the default behaviour in future.\u001b[0m\n",
            "  deprecation(\n",
            "/usr/local/lib/python3.10/dist-packages/gym/wrappers/step_api_compatibility.py:39: DeprecationWarning: \u001b[33mWARN: Initializing environment in old step API which returns one bool instead of two. It is recommended to set `new_step_api=True` to use new step API. This will be the default behaviour in future.\u001b[0m\n",
            "  deprecation(\n"
          ]
        }
      ]
    },
    {
      "cell_type": "markdown",
      "source": [
        "There are a few other commands that can be used to interact and get information about the environment."
      ],
      "metadata": {
        "id": "JcUU2riOdjNd"
      }
    },
    {
      "cell_type": "code",
      "source": [
        "# get the number of states\n",
        "print(env.observation_space.n)\n",
        "\n",
        "# Get the number of actions\n",
        "print(env.action_space.n)"
      ],
      "metadata": {
        "colab": {
          "base_uri": "https://localhost:8080/"
        },
        "id": "aiPgTWc-dYWc",
        "outputId": "5370030a-8fbb-4035-cb03-05620260499b"
      },
      "execution_count": 3,
      "outputs": [
        {
          "output_type": "stream",
          "name": "stdout",
          "text": [
            "16\n",
            "4\n"
          ]
        }
      ]
    },
    {
      "cell_type": "code",
      "source": [
        "# Reset environment to default state\n",
        "env.reset()"
      ],
      "metadata": {
        "colab": {
          "base_uri": "https://localhost:8080/"
        },
        "id": "bE_EEZZCdpom",
        "outputId": "7860a35f-aec7-469c-dbc1-aa186057be3e"
      },
      "execution_count": 4,
      "outputs": [
        {
          "output_type": "execute_result",
          "data": {
            "text/plain": [
              "0"
            ]
          },
          "metadata": {},
          "execution_count": 4
        }
      ]
    },
    {
      "cell_type": "code",
      "source": [
        "# Get a random action\n",
        "action = env.action_space.sample()\n",
        "action"
      ],
      "metadata": {
        "colab": {
          "base_uri": "https://localhost:8080/"
        },
        "id": "ju9qDVVdd8Ld",
        "outputId": "9febf010-799d-41cf-ccfa-bdce2362a080"
      },
      "execution_count": 5,
      "outputs": [
        {
          "output_type": "execute_result",
          "data": {
            "text/plain": [
              "2"
            ]
          },
          "metadata": {},
          "execution_count": 5
        }
      ]
    },
    {
      "cell_type": "code",
      "source": [
        "# Take action, notice it returns information about the action\n",
        "new_state, reward, done, info = env.step(action)"
      ],
      "metadata": {
        "colab": {
          "base_uri": "https://localhost:8080/"
        },
        "id": "K-N_M04AeEY-",
        "outputId": "430078ea-7631-4ec3-ce21-56be98eb6f22"
      },
      "execution_count": 6,
      "outputs": [
        {
          "output_type": "stream",
          "name": "stderr",
          "text": [
            "/usr/local/lib/python3.10/dist-packages/gym/utils/passive_env_checker.py:241: DeprecationWarning: `np.bool8` is a deprecated alias for `np.bool_`.  (Deprecated NumPy 1.24)\n",
            "  if not isinstance(terminated, (bool, np.bool8)):\n"
          ]
        }
      ]
    },
    {
      "cell_type": "code",
      "source": [
        "# Render the GUI for the environment\n",
        "env.render()"
      ],
      "metadata": {
        "colab": {
          "base_uri": "https://localhost:8080/"
        },
        "id": "jomTjmkAePjt",
        "outputId": "8bebb91b-d11b-48a7-b5e0-00c992a1c196"
      },
      "execution_count": 7,
      "outputs": [
        {
          "output_type": "stream",
          "name": "stderr",
          "text": [
            "/usr/local/lib/python3.10/dist-packages/gym/core.py:49: DeprecationWarning: \u001b[33mWARN: You are calling render method, but you didn't specified the argument render_mode at environment initialization. To maintain backward compatibility, the environment will render in human mode.\n",
            "If you want to render in human mode, initialize the environment in this way: gym.make('EnvName', render_mode='human') and don't call the render method.\n",
            "See here for more information: https://www.gymlibrary.ml/content/api/\u001b[0m\n",
            "  deprecation(\n"
          ]
        }
      ]
    },
    {
      "cell_type": "markdown",
      "source": [
        "###Frozen Lake Environment\n",
        "Now that we have a basic understanding of how the gym environment works it's time to discuss the specific problem we will be solving.\n",
        "\n",
        "The environment we loaded above ```FrozenLake-v1``` is one of the simplest environments in Open AI Gym. The goal of the agent is to navigate a frozen lake and find the Goal without falling through the ice (render the environment above to see an example).\n",
        "\n",
        "There are:\n",
        "- 16 states (one for each square)\n",
        "- 4 possible actions (LEFT, RIGHT, DOWN, UP)\n",
        "- 4 different types of blocks (F: frozen, H: hole, S: start, G: goal)\n",
        "\n"
      ],
      "metadata": {
        "id": "gd6Tmyl5fEKa"
      }
    },
    {
      "cell_type": "markdown",
      "source": [
        "###Building the Q-Table\n",
        "The first thing we need to do is build an empty Q-Table that we can use to store and update our values."
      ],
      "metadata": {
        "id": "iN5FVa4zfavh"
      }
    },
    {
      "cell_type": "code",
      "source": [
        "import gym\n",
        "import numpy as np\n",
        "import time\n",
        "\n",
        "env = gym.make('FrozenLake-v1')\n",
        "STATES = env.observation_space.n\n",
        "ACTIONS = env.action_space.n"
      ],
      "metadata": {
        "id": "cX7nPYHheknV"
      },
      "execution_count": 8,
      "outputs": []
    },
    {
      "cell_type": "code",
      "source": [
        "# Creating a matrix with all values equal 0\n",
        "Q = np.zeros((STATES, ACTIONS))\n",
        "Q"
      ],
      "metadata": {
        "colab": {
          "base_uri": "https://localhost:8080/"
        },
        "id": "22BHEiPnfucj",
        "outputId": "6536bf76-73a4-48b1-f228-890fc3254b91"
      },
      "execution_count": 9,
      "outputs": [
        {
          "output_type": "execute_result",
          "data": {
            "text/plain": [
              "array([[0., 0., 0., 0.],\n",
              "       [0., 0., 0., 0.],\n",
              "       [0., 0., 0., 0.],\n",
              "       [0., 0., 0., 0.],\n",
              "       [0., 0., 0., 0.],\n",
              "       [0., 0., 0., 0.],\n",
              "       [0., 0., 0., 0.],\n",
              "       [0., 0., 0., 0.],\n",
              "       [0., 0., 0., 0.],\n",
              "       [0., 0., 0., 0.],\n",
              "       [0., 0., 0., 0.],\n",
              "       [0., 0., 0., 0.],\n",
              "       [0., 0., 0., 0.],\n",
              "       [0., 0., 0., 0.],\n",
              "       [0., 0., 0., 0.],\n",
              "       [0., 0., 0., 0.]])"
            ]
          },
          "metadata": {},
          "execution_count": 9
        }
      ]
    },
    {
      "cell_type": "markdown",
      "source": [
        "###Constants\n",
        "As we discussed we need to define some constants that will be used to update our Q-Table and tell our agent when to stop training."
      ],
      "metadata": {
        "id": "TSGiJTBjf6C6"
      }
    },
    {
      "cell_type": "code",
      "source": [
        "# How many times to run the environment from the beginning\n",
        "EPISODES = 2000\n",
        "\n",
        "# Max number of steps allowed for each run of environment\n",
        "MAX_STEPS = 100\n",
        "\n",
        "# Learning rate\n",
        "LEARNING_RATE = 0.75\n",
        "\n",
        "GAMMA = 0.95"
      ],
      "metadata": {
        "id": "StR2-ywqf3yj"
      },
      "execution_count": 10,
      "outputs": []
    },
    {
      "cell_type": "markdown",
      "source": [
        "###Picking an Action\n",
        "As we said before, we can pick an action using one of two methods:\n",
        "1. Randomly picking a valid action\n",
        "2. Using the current Q-Table to find the best action.\n",
        "\n",
        "Here we will define a new value $\\varepsilon$ that will tell us the probabillity of selecting a random action. This value will start off very high and slowly decrease as the agent learns more about the environment, because the agent will begin using the Q-Table more often."
      ],
      "metadata": {
        "id": "NdfazOOVgX0l"
      }
    },
    {
      "cell_type": "code",
      "source": [
        "# Start with a 90% chance of picking a random action\n",
        "epsilon = 0.9\n",
        "\n",
        "# Code to pick action\n",
        "if np.random.uniform(0, 1) < epsilon : # We'll check if a randomly selected value is less than epsilon\n",
        "  action = env.action_space.sample()   # Take random action\n",
        "else :\n",
        "  action = np.argmax(Q[state, :])     # Use Qtable to pick best action based on current values\n"
      ],
      "metadata": {
        "id": "9e8XXsQjgWYb"
      },
      "execution_count": 11,
      "outputs": []
    },
    {
      "cell_type": "markdown",
      "source": [
        "###Updating Q Values\n",
        "The code below implements the formula discussed above."
      ],
      "metadata": {
        "id": "C1W0paD0hz8D"
      }
    },
    {
      "cell_type": "code",
      "source": [
        "Q[state, action] = Q[state, action] + LEARNING_RATE * (reward + GAMMA * np.max(Q[new_state, :]) - Q[state, action])"
      ],
      "metadata": {
        "id": "S0fpU9RxoZNX"
      },
      "execution_count": null,
      "outputs": []
    },
    {
      "cell_type": "markdown",
      "source": [
        "###Putting it Together\n",
        "Now that we know how to do some basic things we can combine these together to create our Q-Learning algorithm."
      ],
      "metadata": {
        "id": "6hK6B1__igLa"
      }
    },
    {
      "cell_type": "code",
      "source": [
        "import gym\n",
        "import numpy as np\n",
        "import time\n",
        "\n",
        "env = gym.make(\"FrozenLake-v1\", new_step_api=True)\n",
        "STATES = env.observation_space.n\n",
        "ACTIONS = env.action_space.n\n",
        "Q = np.zeros((STATES, ACTIONS))\n",
        "\n",
        "EPISODES = 1500 # How many times to run the environment from the beginning\n",
        "MAX_STEPS = 100  # Max number of steps allowed for each run of environment\n",
        "\n",
        "LEARNING_RATE = 0.81  # Learning rate\n",
        "GAMMA = 0.96\n",
        "\n",
        "RENDER = False # If we want to see training set to true\n",
        "\n",
        "epsilon = 0.9  # The probabillity of selecting a random action"
      ],
      "metadata": {
        "id": "RWi9eFaFh8A2"
      },
      "execution_count": 13,
      "outputs": []
    },
    {
      "cell_type": "code",
      "source": [
        "rewards = []\n",
        "\n",
        "for episode in range(EPISODES) :\n",
        "  state = env.reset()\n",
        "\n",
        "  for _ in range(MAX_STEPS) :\n",
        "    if RENDER :\n",
        "      env.render()\n",
        "\n",
        "    if np.random.uniform(0, 1) < epsilon :\n",
        "      action = env.action_space.sample()\n",
        "    else :\n",
        "      action = np.argmax(Q[state, :])\n",
        "\n",
        "    next_state, reward, done, successfully_moved, info = env.step(action)\n",
        "    Q[state, action] = Q[state, action] + LEARNING_RATE * (reward + GAMMA * np.max(Q[next_state, :]) - Q[state, action])\n",
        "    state = next_state\n",
        "\n",
        "    if done :\n",
        "      rewards.append(reward)\n",
        "      epsilon -= 0.001\n",
        "      break  # reached goal\n",
        "\n",
        "print(Q)\n",
        "print(f\"Average reward : {sum(rewards) / len(rewards)}:\")   # and now we can see our Q values!"
      ],
      "metadata": {
        "colab": {
          "base_uri": "https://localhost:8080/"
        },
        "id": "nEe3M9boi4j8",
        "outputId": "e658aedb-e0b4-4c0d-b7e6-312485c91dac"
      },
      "execution_count": 14,
      "outputs": [
        {
          "output_type": "stream",
          "name": "stdout",
          "text": [
            "[[2.62341539e-01 2.02893317e-02 1.73842547e-02 1.77730921e-02]\n",
            " [3.00630243e-03 2.50357285e-03 2.53217677e-03 3.67254340e-01]\n",
            " [7.43085263e-03 3.70618701e-03 7.09738374e-03 3.37883114e-01]\n",
            " [4.96026193e-03 1.61313611e-03 7.05600314e-03 1.22740823e-01]\n",
            " [3.40008538e-01 6.21051974e-03 5.32911229e-04 5.48826098e-04]\n",
            " [0.00000000e+00 0.00000000e+00 0.00000000e+00 0.00000000e+00]\n",
            " [4.69977372e-02 4.94998488e-05 5.70141724e-05 1.49042533e-05]\n",
            " [0.00000000e+00 0.00000000e+00 0.00000000e+00 0.00000000e+00]\n",
            " [3.50180999e-03 8.33821715e-03 1.65636307e-02 4.67956741e-01]\n",
            " [6.50363116e-05 3.99001274e-01 3.98572289e-03 3.45163800e-03]\n",
            " [5.94918320e-01 1.06115622e-03 5.16852634e-04 8.01964365e-04]\n",
            " [0.00000000e+00 0.00000000e+00 0.00000000e+00 0.00000000e+00]\n",
            " [0.00000000e+00 0.00000000e+00 0.00000000e+00 0.00000000e+00]\n",
            " [4.49158033e-02 2.54297113e-02 7.85838286e-01 3.24598646e-02]\n",
            " [1.47017338e-01 9.78419386e-01 1.73229298e-01 2.08211516e-01]\n",
            " [0.00000000e+00 0.00000000e+00 0.00000000e+00 0.00000000e+00]]\n",
            "Average reward : 0.2987721691678035:\n"
          ]
        }
      ]
    },
    {
      "cell_type": "code",
      "source": [
        "# we can plot the training progress and see how the agent improved\n",
        "import matplotlib.pyplot as plt\n",
        "\n",
        "def get_average(values):\n",
        "  return sum(values)/len(values)\n",
        "\n",
        "avg_rewards = []\n",
        "for i in range(0, len(rewards), 100):\n",
        "  avg_rewards.append(get_average(rewards[i:i+100]))\n",
        "\n",
        "plt.plot(avg_rewards)\n",
        "plt.ylabel('average reward')\n",
        "plt.xlabel('episodes (100\\'s)')\n",
        "plt.show()"
      ],
      "metadata": {
        "colab": {
          "base_uri": "https://localhost:8080/",
          "height": 449
        },
        "id": "H22KJMmQlEut",
        "outputId": "273ca24c-a678-42f9-e1ca-3b3bc98f0218"
      },
      "execution_count": 15,
      "outputs": [
        {
          "output_type": "display_data",
          "data": {
            "text/plain": [
              "<Figure size 640x480 with 1 Axes>"
            ],
            "image/png": "[encoded data removed]"
          },
          "metadata": {}
        }
      ]
    },
    {
      "cell_type": "markdown",
      "source": [
        "##Sources\n",
        "1. Violante, Andre. “Simple Reinforcement Learning: Q-Learning.” Medium, Towards Data Science, 1 July 2019, https://towardsdatascience.com/simple-reinforcement-learning-q-learning-fcddc4b6fe56.\n",
        "\n",
        "2. Openai. “Openai/Gym.” GitHub, https://github.com/openai/gym/wiki/FrozenLake-v0."
      ],
      "metadata": {
        "id": "piOi1zTBoVDH"
      }
    }
  ]
}