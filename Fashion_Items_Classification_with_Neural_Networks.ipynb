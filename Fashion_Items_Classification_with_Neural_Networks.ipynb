{
  "nbformat": 4,
  "nbformat_minor": 0,
  "metadata": {
    "colab": {
      "provenance": [],
      "gpuType": "T4",
      "authorship_tag": "ABX9TyOQvuemya0HbQD2gOjUn7Bq",
      "include_colab_link": true
    },
    "kernelspec": {
      "name": "python3",
      "display_name": "Python 3"
    },
    "language_info": {
      "name": "python"
    },
    "accelerator": "GPU"
  },
  "cells": [
    {
      "cell_type": "markdown",
      "metadata": {
        "id": "view-in-github",
        "colab_type": "text"
      },
      "source": [
        "<a href=\"https://colab.research.google.com/github/Dahamey/Dahamey.github.io/blob/main/Fashion_Items_Classification_with_Neural_Networks.ipynb\" target=\"_parent\"><img src=\"https://colab.research.google.com/assets/colab-badge.svg\" alt=\"Open In Colab\"/></a>"
      ]
    },
    {
      "cell_type": "markdown",
      "source": [
        "#Introduction to Neural Networks\n",
        "In this notebook you will learn how to create and use a neural network to classify articles of clothing. To achieve this, we will use a sub module of TensorFlow called *keras*.\n"
      ],
      "metadata": {
        "id": "jbz9xBwBs7Ig"
      }
    },
    {
      "cell_type": "code",
      "execution_count": 21,
      "metadata": {
        "id": "tXUdtZM_r3o6"
      },
      "outputs": [],
      "source": [
        "import numpy as np\n",
        "import pandas as pd\n",
        "import matplotlib.pyplot as plt\n",
        "\n",
        "from sklearn.model_selection import train_test_split\n",
        "import tensorflow as tf\n",
        "from tensorflow import keras"
      ]
    },
    {
      "cell_type": "markdown",
      "source": [
        "###Dataset\n",
        "For this notebook we will use the MNIST Fashion Dataset. This is a dataset that is included in keras.\n",
        "\n",
        "This dataset includes 60,000 images for training and 10,000 images for validation/testing."
      ],
      "metadata": {
        "id": "NUpOMW1pzBGM"
      }
    },
    {
      "cell_type": "code",
      "source": [
        "# Loading the dataset\n",
        "fashion_mnist = keras.datasets.fashion_mnist\n",
        "\n",
        "# Splitting into training and testing\n",
        "(train_images, train_labels), (test_images, test_labels) = fashion_mnist.load_data()"
      ],
      "metadata": {
        "colab": {
          "base_uri": "https://localhost:8080/"
        },
        "id": "7m_TVXsjy6Qt",
        "outputId": "6993ba17-7152-4258-c944-bf795a06066c"
      },
      "execution_count": 2,
      "outputs": [
        {
          "output_type": "stream",
          "name": "stdout",
          "text": [
            "Downloading data from https://storage.googleapis.com/tensorflow/tf-keras-datasets/train-labels-idx1-ubyte.gz\n",
            "29515/29515 [==============================] - 0s 0us/step\n",
            "Downloading data from https://storage.googleapis.com/tensorflow/tf-keras-datasets/train-images-idx3-ubyte.gz\n",
            "26421880/26421880 [==============================] - 2s 0us/step\n",
            "Downloading data from https://storage.googleapis.com/tensorflow/tf-keras-datasets/t10k-labels-idx1-ubyte.gz\n",
            "5148/5148 [==============================] - 0s 0us/step\n",
            "Downloading data from https://storage.googleapis.com/tensorflow/tf-keras-datasets/t10k-images-idx3-ubyte.gz\n",
            "4422102/4422102 [==============================] - 1s 0us/step\n"
          ]
        }
      ]
    },
    {
      "cell_type": "markdown",
      "source": [
        "Let's have a look at this data :"
      ],
      "metadata": {
        "id": "cTT26kMBz4k_"
      }
    },
    {
      "cell_type": "code",
      "source": [
        "train_images.shape"
      ],
      "metadata": {
        "colab": {
          "base_uri": "https://localhost:8080/"
        },
        "id": "-xClQqeGz1jC",
        "outputId": "71d68652-7e1d-49ec-9eaa-fb0a79260302"
      },
      "execution_count": 3,
      "outputs": [
        {
          "output_type": "execute_result",
          "data": {
            "text/plain": [
              "(60000, 28, 28)"
            ]
          },
          "metadata": {},
          "execution_count": 3
        }
      ]
    },
    {
      "cell_type": "markdown",
      "source": [
        "We've got 60,000 images that are made up of 28x28 pixels (784 in total)"
      ],
      "metadata": {
        "id": "-dk7uAlI0CqD"
      }
    },
    {
      "cell_type": "code",
      "source": [
        "# Let's have a look at one pixel (the 23x23rd pixel in the first image)\n",
        "train_images[0,23,23]"
      ],
      "metadata": {
        "colab": {
          "base_uri": "https://localhost:8080/"
        },
        "id": "j-WUMYJ6z9Jy",
        "outputId": "6936d169-ce6d-40f8-8a92-d0f2fdfac6e9"
      },
      "execution_count": 7,
      "outputs": [
        {
          "output_type": "execute_result",
          "data": {
            "text/plain": [
              "194"
            ]
          },
          "metadata": {},
          "execution_count": 7
        }
      ]
    },
    {
      "cell_type": "markdown",
      "source": [
        "Our pixel values are between 0 and 255, 0 being black and 255 being white. This means we have a grayscale image as there are no color channels."
      ],
      "metadata": {
        "id": "qqnW-xKW00NN"
      }
    },
    {
      "cell_type": "code",
      "source": [
        "# Let's have a look at the first 10 training labels (outputs)\n",
        "train_labels[:10]"
      ],
      "metadata": {
        "colab": {
          "base_uri": "https://localhost:8080/"
        },
        "id": "WIrhSrLg0k_I",
        "outputId": "1bd5b807-e6fe-4dae-b4bf-107745a498c2"
      },
      "execution_count": 8,
      "outputs": [
        {
          "output_type": "execute_result",
          "data": {
            "text/plain": [
              "array([9, 0, 0, 3, 0, 2, 7, 2, 5, 5], dtype=uint8)"
            ]
          },
          "metadata": {},
          "execution_count": 8
        }
      ]
    },
    {
      "cell_type": "markdown",
      "source": [
        "Our labels are integers ranging from 0 - 9. Each integer represents a specific article of clothing. We'll create an array of label names to indicate which is which."
      ],
      "metadata": {
        "id": "LLCDmZHR1TWV"
      }
    },
    {
      "cell_type": "code",
      "source": [
        "# classes of the output\n",
        "class_names = ['T-shirt/top', 'Trouser', 'Pullover', 'Dress', 'Coat',\n",
        "               'Sandal', 'Shirt', 'Sneaker', 'Bag', 'Ankle boot']"
      ],
      "metadata": {
        "id": "AIwukai31DfT"
      },
      "execution_count": 10,
      "outputs": []
    },
    {
      "cell_type": "markdown",
      "source": [
        "Fianlly let's look at what some of these images look like!"
      ],
      "metadata": {
        "id": "CfKhooPq1yuD"
      }
    },
    {
      "cell_type": "code",
      "source": [
        "plt.figure()\n",
        "plt.imshow(train_images[1])\n",
        "plt.colorbar()\n",
        "plt.grid(False)\n",
        "plt.show()"
      ],
      "metadata": {
        "colab": {
          "base_uri": "https://localhost:8080/",
          "height": 430
        },
        "id": "OxwZ-pCZ1HOD",
        "outputId": "fdf7376e-22d7-4cab-94c7-7267c9c0ef59"
      },
      "execution_count": 15,
      "outputs": [
        {
          "output_type": "display_data",
          "data": {
            "text/plain": [
              "<Figure size 640x480 with 2 Axes>"
            ],
            "image/png": "[encoded data removed]"
          },
          "metadata": {}
        }
      ]
    },
    {
      "cell_type": "markdown",
      "source": [
        "##Data Preprocessing\n",
        "The last step before creating our model is to *preprocess* our data. This means applying some prior transformations to our data before feeding it the model. In this case we will scale all our greyscale pixel values (0-255) to be between 0 and 1. We can do this by dividing each value in the training and testing sets by 255.0. We do this because smaller values will make it easier for the model to process our values.\n"
      ],
      "metadata": {
        "id": "R_bLBPmM266j"
      }
    },
    {
      "cell_type": "code",
      "source": [
        "train_images = train_images / 255.0\n",
        "test_images = test_images / 255.0"
      ],
      "metadata": {
        "id": "C9vOl5bw2Amc"
      },
      "execution_count": 16,
      "outputs": []
    },
    {
      "cell_type": "code",
      "source": [
        "train_images.shape"
      ],
      "metadata": {
        "colab": {
          "base_uri": "https://localhost:8080/"
        },
        "id": "9b1BObVw3RKL",
        "outputId": "0619a486-240a-4b75-bd66-aba4ae6dfb10"
      },
      "execution_count": 19,
      "outputs": [
        {
          "output_type": "execute_result",
          "data": {
            "text/plain": [
              "(60000, 28, 28)"
            ]
          },
          "metadata": {},
          "execution_count": 19
        }
      ]
    },
    {
      "cell_type": "code",
      "source": [
        "test_images.shape"
      ],
      "metadata": {
        "colab": {
          "base_uri": "https://localhost:8080/"
        },
        "id": "HlAi8g5S3Spp",
        "outputId": "1baef769-3179-45b4-fb8f-46665370e666"
      },
      "execution_count": 20,
      "outputs": [
        {
          "output_type": "execute_result",
          "data": {
            "text/plain": [
              "(10000, 28, 28)"
            ]
          },
          "metadata": {},
          "execution_count": 20
        }
      ]
    },
    {
      "cell_type": "code",
      "source": [
        "trn_images, val_images, trn_labels, val_labels = train_test_split(train_images, train_labels, test_size = .14, stratify = train_labels)"
      ],
      "metadata": {
        "id": "IZ7wJ1hO3fOq"
      },
      "execution_count": 23,
      "outputs": []
    },
    {
      "cell_type": "markdown",
      "source": [
        "##Building the Model\n",
        "Now it's time to build the model! We are going to use a keras *sequential* model with three different layers. This model represents a feed-forward neural network (one that passes values from left to right). We'll break down each layer and its architecture below."
      ],
      "metadata": {
        "id": "CLvXawlv5Kzb"
      }
    },
    {
      "cell_type": "code",
      "source": [
        "model = keras.Sequential([\n",
        "    # input layer 1\n",
        "    keras.layers.Flatten(input_shape = (28,28)),\n",
        "\n",
        "    # input layer 2\n",
        "    keras.layers.Dense(128, activation = 'relu'),\n",
        "\n",
        "    # output layer 3\n",
        "    keras.layers.Dense(10, activation = \"softmax\")\n",
        "])"
      ],
      "metadata": {
        "id": "kBpdAr034CoS"
      },
      "execution_count": 38,
      "outputs": []
    },
    {
      "cell_type": "markdown",
      "source": [
        "**Layer 1:** This is our input layer and it will conist of 784 neurons. We use the flatten layer with an input shape of (28,28) to denote that our input should come in in that shape. The flatten means that our layer will reshape the shape (28,28) array into a vector of 784 neurons so that each pixel will be associated with one neuron (in the input).\n",
        "\n",
        "**Layer 2:** This is our first and only hidden layer. The *dense* denotes that this layer will be fully connected and each neuron from the previous layer connects to each neuron of this layer. It has 128 neurons and uses the rectify linear unit activation function.\n",
        "\n",
        "**Layer 3:** This is our output layer and is also a dense layer. It has 10 neurons that we will look at to determine our models output. Each neuron represents the probabillity of a given image being one of the 10 different classes. The activation function *softmax* is used on this layer to calculate a probabillity distribution for each class. This means the value of any neuron in this layer will be between 0 and 1, where 1 represents a high probabillity of the image being that class."
      ],
      "metadata": {
        "id": "JRTvR6o5545r"
      }
    },
    {
      "cell_type": "markdown",
      "source": [
        "###Compile the Model\n",
        "The last step in building the model is to define the loss function, optimizer and metrics we would like to track."
      ],
      "metadata": {
        "id": "ExXDU7aD6oe2"
      }
    },
    {
      "cell_type": "code",
      "source": [
        "model.compile(optimizer = \"adam\",\n",
        "              loss = \"sparse_categorical_crossentropy\",\n",
        "              metrics = [\"accuracy\"])"
      ],
      "metadata": {
        "id": "6du6GED14EAy"
      },
      "execution_count": 39,
      "outputs": []
    },
    {
      "cell_type": "markdown",
      "source": [
        "##Training the Model\n",
        "Now it's finally time to train our model."
      ],
      "metadata": {
        "id": "WegUvR6T7BYz"
      }
    },
    {
      "cell_type": "code",
      "source": [
        "# We pass the data, labels and epochs\n",
        "model.fit(trn_images, trn_labels, epochs = 10)"
      ],
      "metadata": {
        "colab": {
          "base_uri": "https://localhost:8080/"
        },
        "id": "HE0mp7oP65bw",
        "outputId": "d8b499c8-61df-4795-9956-f9298593a7f9"
      },
      "execution_count": 40,
      "outputs": [
        {
          "output_type": "stream",
          "name": "stdout",
          "text": [
            "Epoch 1/10\n",
            "1613/1613 [==============================] - 8s 5ms/step - loss: 0.5178 - accuracy: 0.8190\n",
            "Epoch 2/10\n",
            "1613/1613 [==============================] - 8s 5ms/step - loss: 0.3889 - accuracy: 0.8595\n",
            "Epoch 3/10\n",
            "1613/1613 [==============================] - 6s 4ms/step - loss: 0.3454 - accuracy: 0.8741\n",
            "Epoch 4/10\n",
            "1613/1613 [==============================] - 7s 5ms/step - loss: 0.3210 - accuracy: 0.8824\n",
            "Epoch 5/10\n",
            "1613/1613 [==============================] - 6s 4ms/step - loss: 0.3041 - accuracy: 0.8884\n",
            "Epoch 6/10\n",
            "1613/1613 [==============================] - 7s 5ms/step - loss: 0.2872 - accuracy: 0.8932\n",
            "Epoch 7/10\n",
            "1613/1613 [==============================] - 6s 4ms/step - loss: 0.2745 - accuracy: 0.8989\n",
            "Epoch 8/10\n",
            "1613/1613 [==============================] - 7s 5ms/step - loss: 0.2610 - accuracy: 0.9031\n",
            "Epoch 9/10\n",
            "1613/1613 [==============================] - 7s 4ms/step - loss: 0.2547 - accuracy: 0.9056\n",
            "Epoch 10/10\n",
            "1613/1613 [==============================] - 7s 4ms/step - loss: 0.2444 - accuracy: 0.9096\n"
          ]
        },
        {
          "output_type": "execute_result",
          "data": {
            "text/plain": [
              "<keras.src.callbacks.History at 0x7c4f999f44c0>"
            ]
          },
          "metadata": {},
          "execution_count": 40
        }
      ]
    },
    {
      "cell_type": "markdown",
      "source": [
        "Let's evaluate our model on the validation data, The *verbose* argument is defined from the keras documentation as:\n",
        "\"verbose: 0 or 1. Verbosity mode. 0 = silent, 1 = progress bar.\"\n",
        "(https://keras.io/models/sequential/)"
      ],
      "metadata": {
        "id": "6d8fH-dD7xZ8"
      }
    },
    {
      "cell_type": "code",
      "source": [
        "model.evaluate(val_images, val_labels, verbose = 1)"
      ],
      "metadata": {
        "colab": {
          "base_uri": "https://localhost:8080/"
        },
        "id": "1EMaHd3I7T-X",
        "outputId": "c6cc68fc-1033-4732-ac61-56511a49700f"
      },
      "execution_count": 41,
      "outputs": [
        {
          "output_type": "stream",
          "name": "stdout",
          "text": [
            "263/263 [==============================] - 1s 5ms/step - loss: 0.3045 - accuracy: 0.8927\n"
          ]
        },
        {
          "output_type": "execute_result",
          "data": {
            "text/plain": [
              "[0.30453503131866455, 0.8927381038665771]"
            ]
          },
          "metadata": {},
          "execution_count": 41
        }
      ]
    },
    {
      "cell_type": "markdown",
      "source": [
        "##Evaluating the Model\n",
        "Now it's time to test/evaluate the model."
      ],
      "metadata": {
        "id": "34YmbU-O8t1z"
      }
    },
    {
      "cell_type": "code",
      "source": [
        "test_loss, test_acc = model.evaluate(test_images, test_labels, verbose = 1)\n",
        "print(\"Test accuracy : \", test_acc)"
      ],
      "metadata": {
        "colab": {
          "base_uri": "https://localhost:8080/"
        },
        "id": "grsg_7qQ8opi",
        "outputId": "1059320a-a73d-4cfb-e6c5-527f2729b39b"
      },
      "execution_count": 43,
      "outputs": [
        {
          "output_type": "stream",
          "name": "stdout",
          "text": [
            "313/313 [==============================] - 1s 2ms/step - loss: 0.3368 - accuracy: 0.8803\n",
            "Test accuracy :  0.880299985408783\n"
          ]
        }
      ]
    },
    {
      "cell_type": "markdown",
      "source": [
        "Notice that the accuracy here is lower than when training the model. This difference is reffered to as **overfitting**.\n",
        "\n",
        "And now we have a trained model that's ready to use to predict some values!"
      ],
      "metadata": {
        "id": "sU1nuJ_c9Q-s"
      }
    },
    {
      "cell_type": "markdown",
      "source": [
        "##Making Predictions\n",
        "To make predictions we simply need to pass an array of data in the form we've specified in the input layer to ```.predict()``` method."
      ],
      "metadata": {
        "id": "ZCJeZbnM9Ylz"
      }
    },
    {
      "cell_type": "code",
      "source": [
        "predictions = model.predict(test_images)"
      ],
      "metadata": {
        "colab": {
          "base_uri": "https://localhost:8080/"
        },
        "id": "iraMeht19EnJ",
        "outputId": "26a3840f-0e69-4911-f9c5-944ce62c240f"
      },
      "execution_count": 44,
      "outputs": [
        {
          "output_type": "stream",
          "name": "stdout",
          "text": [
            "313/313 [==============================] - 1s 3ms/step\n"
          ]
        }
      ]
    },
    {
      "cell_type": "markdown",
      "source": [
        "This method returns to us an array of predictions for each image we passed it. Let's have a look at the predictions for the first image."
      ],
      "metadata": {
        "id": "lG42O8NM9pUa"
      }
    },
    {
      "cell_type": "code",
      "source": [
        "predictions[0]"
      ],
      "metadata": {
        "colab": {
          "base_uri": "https://localhost:8080/"
        },
        "id": "6Mmur2Za9lxH",
        "outputId": "f91f1762-4d4c-44f9-d94a-adae12c6127c"
      },
      "execution_count": 45,
      "outputs": [
        {
          "output_type": "execute_result",
          "data": {
            "text/plain": [
              "array([7.5457130e-08, 2.7787861e-10, 1.0903122e-09, 1.3869451e-11,\n",
              "       6.9742561e-07, 4.2386958e-04, 1.0143002e-08, 5.4522000e-02,\n",
              "       2.0786539e-08, 9.4505334e-01], dtype=float32)"
            ]
          },
          "metadata": {},
          "execution_count": 45
        }
      ]
    },
    {
      "cell_type": "markdown",
      "source": [
        "If we wan't to get the value with the highest score we can use a useful function from numpy called ```argmax()```. This simply returns the index of the maximium value from a numpy array."
      ],
      "metadata": {
        "id": "QeXXR2eK99pP"
      }
    },
    {
      "cell_type": "code",
      "source": [
        "np.argmax(predictions[0])"
      ],
      "metadata": {
        "colab": {
          "base_uri": "https://localhost:8080/"
        },
        "id": "5vTWQ3AB945Y",
        "outputId": "0f1f6bfa-9fa4-42c3-dabd-1af6a2139182"
      },
      "execution_count": 46,
      "outputs": [
        {
          "output_type": "execute_result",
          "data": {
            "text/plain": [
              "9"
            ]
          },
          "metadata": {},
          "execution_count": 46
        }
      ]
    },
    {
      "cell_type": "markdown",
      "source": [
        "9 means the output predicted is the index number 9 in our class_names array, which is a 'Ankle boot'. We can check if this is correct by looking at the value of the cooresponding test label."
      ],
      "metadata": {
        "id": "xQ8VLcFT-Kx_"
      }
    },
    {
      "cell_type": "code",
      "source": [
        "test_labels[0]"
      ],
      "metadata": {
        "colab": {
          "base_uri": "https://localhost:8080/"
        },
        "id": "nVnWo9CK-Ea-",
        "outputId": "177936b5-5925-4a8e-e85f-bf1d4cb48c5d"
      },
      "execution_count": 47,
      "outputs": [
        {
          "output_type": "execute_result",
          "data": {
            "text/plain": [
              "9"
            ]
          },
          "metadata": {},
          "execution_count": 47
        }
      ]
    },
    {
      "cell_type": "markdown",
      "source": [
        "##Verifying Predictions\n",
        "I've written a small function here to help us verify predictions with some simple visuals."
      ],
      "metadata": {
        "id": "YjQXkjFb-rs2"
      }
    },
    {
      "cell_type": "code",
      "source": [
        "COLOR = 'black'\n",
        "plt.rcParams['text.color'] = COLOR\n",
        "plt.rcParams['axes.labelcolor'] = COLOR\n",
        "\n",
        "def show_image(img, label, guess):\n",
        "  plt.figure()\n",
        "  plt.imshow(img, cmap=plt.cm.binary)\n",
        "  plt.title(\"Excpected: \" + label)\n",
        "  plt.xlabel(\"Guess: \" + guess)\n",
        "  plt.colorbar()\n",
        "  plt.grid(False)\n",
        "  plt.show()\n",
        "\n",
        "def predict(model, image, correct_label):\n",
        "  class_names = ['T-shirt/top', 'Trouser', 'Pullover', 'Dress', 'Coat',\n",
        "               'Sandal', 'Shirt', 'Sneaker', 'Bag', 'Ankle boot']\n",
        "  prediction = model.predict(np.array([image]))\n",
        "  predicted_class = class_names[np.argmax(prediction)]\n",
        "\n",
        "  show_image(image, class_names[correct_label], predicted_class)\n",
        "\n",
        "def get_number():\n",
        "  while True:\n",
        "    num = input(\"Pick a number: \")\n",
        "    if num.isdigit():\n",
        "      num = int(num)\n",
        "      if 0 <= num <= 1000:\n",
        "        return int(num)\n",
        "    else:\n",
        "      print(\"Try again...\")"
      ],
      "metadata": {
        "id": "Hw38RIlc-nC4"
      },
      "execution_count": 58,
      "outputs": []
    },
    {
      "cell_type": "code",
      "source": [
        "num = get_number()\n",
        "image = test_images[num]\n",
        "label = test_labels[num]\n",
        "predict(model, image, label)"
      ],
      "metadata": {
        "colab": {
          "base_uri": "https://localhost:8080/",
          "height": 507
        },
        "id": "xRN6UBqB_nFK",
        "outputId": "319cb464-7624-46a4-86ca-bffc0b1e28ed"
      },
      "execution_count": 59,
      "outputs": [
        {
          "output_type": "stream",
          "name": "stdout",
          "text": [
            "Pick a number: 45\n",
            "1/1 [==============================] - 0s 27ms/step\n"
          ]
        },
        {
          "output_type": "display_data",
          "data": {
            "text/plain": [
              "<Figure size 640x480 with 2 Axes>"
            ],
            "image/png": "[encoded data removed]"
          },
          "metadata": {}
        }
      ]
    },
    {
      "cell_type": "markdown",
      "source": [
        "##Sources\n",
        "\n",
        "1. Doshi, Sanket. “Various Optimization Algorithms For Training Neural Network.” Medium, Medium, 10 Mar. 2019, www.medium.com/@sdoshi579/optimizers-for-training-neural-network-59450d71caf6.\n",
        "\n",
        "2. “Basic Classification: Classify Images of Clothing &nbsp;: &nbsp; TensorFlow Core.” TensorFlow, www.tensorflow.org/tutorials/keras/classification.\n",
        "\n",
        "3. “Gradient Descent¶.” Gradient Descent - ML Glossary Documentation, www.ml-cheatsheet.readthedocs.io/en/latest/gradient_descent.html.\n",
        "\n",
        "4. Chollet François. Deep Learning with Python. Manning Publications Co., 2018.\n",
        "\n",
        "5. “Keras: The Python Deep Learning Library.” Home - Keras Documentation, www.keras.io/."
      ],
      "metadata": {
        "id": "DRF5rrvdCskj"
      }
    },
    {
      "cell_type": "code",
      "source": [],
      "metadata": {
        "id": "oEvA5zPDBGOK"
      },
      "execution_count": null,
      "outputs": []
    }
  ]
}