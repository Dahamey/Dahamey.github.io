{
 "cells": [
  {
   "cell_type": "markdown",
   "metadata": {
    "id": "J_o2L3Io9t4c"
   },
   "source": [
    "# Deep Computer Vision\n",
    "\n",
    "In this notebook we will learn how to peform *image classification and object detection/recognition* using deep computer vision with something called a **convolutional neural network (CNN)**.\n",
    "\n",
    "The goal of our convolutional neural networks (CNNs) will be to classify and detect images or specific objects from within the image. We will be using image data as our features and a label for those images as our label or output.\n",
    "\n",
    "We already know how neural networks work (check out PART 3 : https://github.com/Dahamey/Tensorflow-projects/blob/main/PART%203%20-%20Neural%20Networks%20with%20TensorFlow.ipynb) so we can skip through the basics and move right into explaining the following concepts.\n",
    "- Image Data\n",
    "- Convolutional Layer\n",
    "- Pooling Layer\n",
    "- CNN Architectures\n",
    "\n",
    "The major differences we are about to see in these types of neural networks are the layers that make them up."
   ]
  },
  {
   "cell_type": "markdown",
   "metadata": {
    "id": "tdqlqfhLCHZl"
   },
   "source": [
    "## Image Data\n",
    "So far, we have dealt with pretty straight forward data that has 1 or 2 dimensions. Now we are about to deal with image data that is usually made up of 3 dimensions. These 3 dimensions are as follows:\n",
    "- image height\n",
    "- image width\n",
    "- color channels\n",
    "\n",
    "The only item in the list above that is new (compared to PART 3) is **color channels**. The number of color channels represents the depth of an image and coorelates to the colors used in it. For example, an image with three channels is likely made up of RGB (red, green, blue) pixels. So, **for each pixel we have three numeric values in the range 0-255 that define its color**. For an image of color depth 1 we would likely have a greyscale image with one value defining each pixel, again in the range of 0-255 (0 for black and 1 for white).\n",
    "\n",
    "![alt text](http://xrds.acm.org/blog/wp-content/uploads/2016/06/Figure1.png)\n",
    "\n",
    "We must keep this in mind as we discuss how our network works and the input/output of each layer.\n",
    "\n"
   ]
  },
  {
   "cell_type": "markdown",
   "metadata": {
    "id": "9mqznmTh--v2"
   },
   "source": [
    "## Convolutional Neural Network\n",
    "**Note:** I will use the term CNN instead of convolutional neural network.\n",
    "\n",
    "Each CNN is made up of one or many convolutional layers. These layers are different than the *dense* layers we have seen previously. Their goal is to find patterns from within images that can be used to classify the image or parts of it. But this may sound familiar to what our densely connected neural network in the previous part was doing, well that's becasue it is.\n",
    "\n",
    "The fundemental difference between a dense layer and a convolutional layer is that :\n",
    "\n",
    "   * **dense layers** detect patterns globally.\n",
    "   \n",
    "   while\n",
    "   \n",
    "   * **convolutional layers** : detect patterns locally.\n",
    "\n",
    "When we have a densely connected layer each node in that layer sees all the data from the previous layer. This means that this layer is looking at all the information and is only capable of analyzing the data in a global capacity. Our convolutional layer however will not be densely connected, this means it can detect local patterns using part of the input data to that layer.\n",
    "\n",
    "*Let's have a look at how a densely connected layer would look at an image vs how a convolutional layer would.*\n",
    "\n",
    "This is our image; the goal of our network will be to determine whether this image is a cat or not.\n",
    "![alt text](https://img.webmd.com/dtmcms/live/webmd/consumer_assets/site_images/article_thumbnails/reference_guide/cat_weight_ref_guide/1800x1200_cat_weight_ref_guide.jpg)\n",
    "\n",
    "**Dense Layer:** A dense layer will consider the ENTIRE image. It will look at all the pixels and use that information to generate some output.\n",
    "\n",
    "**Convolutional Layer:** The convolutional layer will look at specific parts of the image. In this example let's say it analyzes the highlighted parts below and detects patterns there.\n",
    "![alt text](convocat.webp)\n",
    "\n",
    "We can see why this might make these networks more useful.\n"
   ]
  },
  {
   "cell_type": "markdown",
   "metadata": {
    "id": "CIQvxFu_FB3h"
   },
   "source": [
    "### How They Work\n",
    "A dense neural network (DNN) learns patterns that are present in one specific area of an image. This means if a pattern that the network knows is present in a different area of the image it will have to learn the pattern again in that new area to be able to detect it.\n",
    "\n",
    "*Let's use an example to better illustrate this.*\n",
    "\n",
    "We'll consider that we have a DNN that has learned what an eye looks like from a sample of dog images.\n",
    "\n",
    "![alt text](dog1.png)\n",
    "\n",
    "Let's say it's determined that an image is likely to be a dog if an eye is present in the boxed off locations of the image above.\n",
    "\n",
    "Now let's flip the image.\n",
    "![alt text](dog2.png)\n",
    "\n",
    "Since our densely connected network has only recognized patterns globally it will look where it thinks the eyes should be present. Clearly it does not find them there and therefore would likely determine this image is not a dog. Even though the pattern of the eyes is present, it's just in a different location.\n",
    "\n",
    "Since convolutional layers learn and detect patterns from different areas of the image, they don't have problems with the example we just illustrated. They know what an eye looks like and by analyzing different parts of the image can find where it is present.\n"
   ]
  },
  {
   "cell_type": "markdown",
   "metadata": {
    "id": "20J29gz-NroA"
   },
   "source": [
    "### Multiple Convolutional Layers\n",
    "In our models it is quite common to have more than one convolutional layer. Even the basic example we will use in this guide will be made up of **3 convolutional layers**. These layers work together by increasing complexity and abstraction at each subsequent layer.\n",
    "\n",
    "* The first layer might be responsible for picking up edges and short lines.\n",
    "\n",
    "while\n",
    "\n",
    "* The second layer will take as input these lines and start forming shapes or polygons.\n",
    "\n",
    "Finally,\n",
    "\n",
    "* The last layer might take these shapes and determine which combinations make up a specific image.\n"
   ]
  },
  {
   "cell_type": "markdown",
   "metadata": {
    "id": "ii-a9rXzRwNi"
   },
   "source": [
    "## Feature Maps\n",
    "This term *feature map* simply stands for a **3D-tensor with two spacial axes (width and height)** and **one depth axis.** Our convolutional layers take feature maps as their input and return a new feature map that represents the presence of specific filters from the previous feature map. These are what we call **response maps**."
   ]
  },
  {
   "cell_type": "markdown",
   "metadata": {
    "id": "OScABB-ScXHx"
   },
   "source": [
    "## Layer Parameters\n",
    "A convolutional layer is defined by two key parameters /\n",
    "\n",
    "#### Filters\n",
    "A filter is a $m \\times n$ pattern of pixels that we are looking for in an image. The number of filters in a convolutional layer represents how many patterns each layer is looking for and what the depth of our response map will be. If we are looking for 32 different patterns/filters, then our output feature map (aka the response map) will have a depth of 32. Each one of the 32 \"layers of depth\" will be a matrix of some size containing values indicating if the filter was present at that location or not.\n",
    "\n",
    "Here's a great illustration from the book \"Deep Learning with Python\" by Francois Chollet (pg 124).\n",
    "\n",
    "![alt text](filters.png)\n",
    "\n",
    "#### Sample Size\n",
    "This isn't really the best term to describe this, but each convolutional layer is going to examine $n \\times m$ blocks of pixels in each image. Typically, we'll consider 3x3 or 5x5 blocks. In the example above we use a 3x3 \"sample size\". This size will be the same as the size of our filter.\n",
    "\n",
    "Our layers work by sliding these filters of $n \\times m$ pixels over every possible position in our image and populating a new feature map/response map indicating whether the filter is present at each location.\n"
   ]
  },
  {
   "cell_type": "markdown",
   "metadata": {
    "id": "vnzqr8Dzjchd"
   },
   "source": [
    "## Borders and Padding\n",
    "The more mathematical of us may have realized that if we slide a filter of let's say size 3x3 over our image will consider less positions for our filter than pixels in our input. Look at the example below.\n",
    "\n",
    "*Image from \"Deep Learning with Python\" by Francois Chollet (pg 126).*\n",
    "![alt text](borders.png)\n",
    "\n",
    "This means our response map will have a slightly smaller width and height than our original image. This is fine but sometimes we want our response map to have the same dimensions. We can accomplish this by using something called *padding*.\n",
    "\n",
    "**Padding** is simply the addition of the appropriate number of rows and/or columns to your input data such that each pixel can be centered by the filter."
   ]
  },
  {
   "cell_type": "markdown",
   "metadata": {
    "id": "yDwH2eOMmt_N"
   },
   "source": [
    "## Strides\n",
    "In the previous sections we assumed that the filters would be slid continuously through the image such that it covered every possible position. This is common but sometimes we introduce the idea of a **stride** to our convolutional layer.\n",
    "\n",
    "**The stride size :** represents how many rows/cols we will move the filter each time."
   ]
  },
  {
   "cell_type": "markdown",
   "metadata": {
    "id": "nCsVC-4UnfC8"
   },
   "source": [
    "## Pooling\n",
    "We already said that our CNNs are made up of a stack of convolution and pooling layers.\n",
    "\n",
    "The idea behind a pooling layer is to **downsample our feature maps and reduce their dimensions.** They work in a similar way to convolutional layers where they extract windows from the feature map and return a response map of the max, min or average values **of each channel**. Pooling is usually done using windows of size $2\\times2$ and a stride of $2$. This will reduce the size of the feature map by a factor of two and return a response map that is $2\\times$ smaller."
   ]
  },
  {
   "cell_type": "markdown",
   "metadata": {
    "id": "xqLsm2XzNQSE"
   },
   "source": [
    "# I) Creating a CNN\n",
    "\n",
    "Now it is time to create our CNN. This example is for the purpose of getting familiar with CNN architectures, we will talk about how to improve its performance later.\n",
    "\n",
    "*This tutorial is based on the following guide from the TensorFlow documentation: https://www.tensorflow.org/tutorials/images/cnn*\n",
    "\n",
    "### Dataset\n",
    "The problem we will consider here is classifying 10 different everyday objects. The dataset we will use is built into tensorflow and called the [**CIFAR Image Dataset.**](https://www.cs.toronto.edu/~kriz/cifar.html) It contains $60,000$ $32\\times32$ color images with $6000$ images of each class.\n",
    "\n",
    "The labels in this dataset are the following:\n",
    "- Airplane\n",
    "- Automobile\n",
    "- Bird\n",
    "- Cat\n",
    "- Deer\n",
    "- Dog\n",
    "- Frog\n",
    "- Horse\n",
    "- Ship\n",
    "- Truck\n",
    "\n",
    "We'll load the dataset and have a look at some of the images below.\n"
   ]
  },
  {
   "cell_type": "code",
   "execution_count": null,
   "metadata": {
    "id": "bnIbwiK7Ohv2"
   },
   "outputs": [],
   "source": [
    "#%tensorflow_version 2.x  # this line is not required unless you are in a notebook # google colab\n",
    "import tensorflow as tf\n",
    "\n",
    "from tensorflow.keras import datasets, layers, models, Input\n",
    "import matplotlib.pyplot as plt"
   ]
  },
  {
   "cell_type": "code",
   "execution_count": null,
   "metadata": {
    "id": "49wbEaM1PCCR"
   },
   "outputs": [],
   "source": [
    "#  LOAD AND SPLIT DATASET into train and test\n",
    "(train_images, train_labels), (test_images, test_labels) = datasets.cifar10.load_data()\n",
    "\n",
    "# Normalize pixel values to be between 0 and 1\n",
    "train_images, test_images = train_images / 255.0, test_images / 255.0\n",
    "\n",
    "# we create an array of label names to indicate which is which.\n",
    "class_names = ['airplane', 'automobile', 'bird', 'cat', 'deer',\n",
    "               'dog', 'frog', 'horse', 'ship', 'truck']"
   ]
  },
  {
   "cell_type": "code",
   "execution_count": null,
   "metadata": {
    "scrolled": true
   },
   "outputs": [],
   "source": [
    "print(f\"The shape of the training images is : {train_images.shape}\")  #(nb of images, height, width,channels)\n",
    "print(f\"The shape of the training labels is : {train_labels.shape}\") #(nb of images, 1)\n",
    "print(f\"The shape of the test images is : {test_images.shape}\")  \n",
    "print(f\"The shape of the test labels is : {test_labels.shape}\") "
   ]
  },
  {
   "cell_type": "code",
   "execution_count": null,
   "metadata": {
    "scrolled": true
   },
   "outputs": [],
   "source": [
    "# First image\n",
    "print(train_images[0])\n",
    "train_images[0].shape"
   ]
  },
  {
   "cell_type": "code",
   "execution_count": null,
   "metadata": {},
   "outputs": [],
   "source": [
    "# First true label\n",
    "train_labels[0]"
   ]
  },
  {
   "cell_type": "code",
   "execution_count": null,
   "metadata": {
    "id": "Bp0yAAcuPHFN"
   },
   "outputs": [],
   "source": [
    "# Let's look at a one image\n",
    "\n",
    "IMG_INDEX = 9  # we change this to look at other images\n",
    "\n",
    "plt.imshow(train_images[IMG_INDEX] ,cmap=plt.cm.binary)\n",
    "plt.xlabel(class_names[train_labels[IMG_INDEX][0]])\n",
    "plt.show()"
   ]
  },
  {
   "cell_type": "markdown",
   "metadata": {
    "id": "aPqeddhcPwpc"
   },
   "source": [
    "## 1- CNN Architecture\n",
    "A common architecture for a CNN is a stack of Conv2D and MaxPooling2D layers followed by a few densely connected layers. The idea is that :\n",
    "    \n",
    "   * The stack of convolutional and maxPooling layers extract the features from the image.\n",
    "   * These features are then flattened\n",
    "   * And fed to densely connected layers that determine the class of an image based on the presence of features.\n",
    "\n",
    "We will start by building the **Convolutional Base**."
   ]
  },
  {
   "cell_type": "code",
   "execution_count": null,
   "metadata": {
    "id": "ibuJZqAXQrWJ"
   },
   "outputs": [],
   "source": [
    "model = models.Sequential()\n",
    "# Input layer : shape 1 image is (H,W,C) = (32,32,3)\n",
    "model.add(Input(shape=(32, 32, 3))),\n",
    "\n",
    "# First layer 1: a convolutional layer, we are looking for 32 different patterns/filters of size 3x3\n",
    "model.add(layers.Conv2D(filters=32, kernel_size=(3, 3), activation='relu'))\n",
    "\n",
    "# Second layer 2 : a Max pooling layer, the feature map of the pooling is of size 2x2\n",
    "model.add(layers.MaxPooling2D((2, 2)))\n",
    "\n",
    "# Third layer 3 : a convolutional layer where we're looking for 64 different patterns/filters of size 3x3\n",
    "model.add(layers.Conv2D(64, (3, 3), activation='relu'))\n",
    "\n",
    "# Fourth layer 4 : a Max pooling layer \n",
    "model.add(layers.MaxPooling2D((2, 2)))\n",
    "\n",
    "# Fifth layer 5 : a convolutional layer where we're looking for 64 different patterns/filters of size 3x3\n",
    "model.add(layers.Conv2D(64, (3, 3), activation='relu'))"
   ]
  },
  {
   "cell_type": "markdown",
   "metadata": {
    "id": "tybTBoi_Qtxl"
   },
   "source": [
    "**Layer 1**\n",
    "\n",
    "The input shape of our data will be $32\\times32\\times3$ and we will process $32$ filters of size $3\\times3$ over our input data. We will also apply the activation function ReLU to the output of each convolution operation.\n",
    "\n",
    "**Layer 2**\n",
    "\n",
    "This layer will perform the max pooling operation using $2\\times2$ samples and a stride of $2$.\n",
    "\n",
    "**Other Layers**\n",
    "\n",
    "The next set of layers do very similar things **but take as input the feature map from the previous layer**. They also increase the frequency of filters from $32$ to $64$. We can do this as our data shrinks in spacial dimensions (width and height) as it passed through the layers, meaning we can afford (computationally) to add more depth."
   ]
  },
  {
   "cell_type": "code",
   "execution_count": null,
   "metadata": {
    "id": "_QahwuduSEDG"
   },
   "outputs": [],
   "source": [
    " # let's have a look at our model so far\n",
    "model.summary() "
   ]
  },
  {
   "cell_type": "markdown",
   "metadata": {
    "id": "ZXw-sreaSzTW"
   },
   "source": [
    " **Remark :** After looking at the summary we should notice that the depth of our image increases but the spacial dimensions reduce drastically."
   ]
  },
  {
   "cell_type": "markdown",
   "metadata": {
    "id": "zjtADcfmSI9q"
   },
   "source": [
    "## 2- Adding Dense Layers\n",
    "So far, we have just completed the **convolutional base**. Now we need to take these extracted features and add a way to classify them. This is why we add the following layers to our model.\n"
   ]
  },
  {
   "cell_type": "code",
   "execution_count": null,
   "metadata": {
    "id": "A9TMZH_oSULo"
   },
   "outputs": [],
   "source": [
    "# After the convo layer, we flatten its output\n",
    "model.add(layers.Flatten())  # (nb of images being processed , Height*Width*channel)\n",
    "\n",
    "# To then feed it to a dense neurl network\n",
    "model.add(layers.Dense(units = 64, activation='relu'))  # The hidden layer in this DNN\n",
    "model.add(layers.Dense(units = 10))                     # The output layer of this DNN"
   ]
  },
  {
   "cell_type": "code",
   "execution_count": null,
   "metadata": {
    "id": "fEzHX-7ESeCl"
   },
   "outputs": [],
   "source": [
    "model.summary()"
   ]
  },
  {
   "cell_type": "markdown",
   "metadata": {
    "id": "dxfqtdDbSf4W"
   },
   "source": [
    "We can see that the \"Flatten layer\" changes the shape of our data so that we can feed it to the 64-node dense layer, followed by the final output layer of 10 neurons (one for each class).\n"
   ]
  },
  {
   "cell_type": "markdown",
   "metadata": {
    "id": "wdPxFvHdTLRK"
   },
   "source": [
    "## 3- Training\n",
    "Now we will train and compile the model using the recommended hyper paramaters from tensorflow.\n",
    "\n",
    "*Note: This will take much longer than previous models!*"
   ]
  },
  {
   "cell_type": "markdown",
   "metadata": {},
   "source": [
    "In the context of neural networks, the variable named `history` typically refers to an object that holds information about the training history of the model. When we train a neural network using frameworks like Keras or TensorFlow, the `fit()` method returns a `History` object that contains information about the training process, such as the **loss** and **accuracy metrics** over each epoch."
   ]
  },
  {
   "cell_type": "code",
   "execution_count": null,
   "metadata": {
    "id": "5loIug93TW1E"
   },
   "outputs": [],
   "source": [
    "# the function that implements the backpropagation algorithm (\"adam\"), the loss fct, and the metric\n",
    "model.compile(optimizer='adam',\n",
    "              loss=tf.keras.losses.SparseCategoricalCrossentropy(from_logits=True),\n",
    "              metrics=['accuracy'])\n",
    "\n",
    "\n",
    "history = model.fit(x= train_images, y= train_labels, epochs=4,\n",
    "                    validation_data=(test_images, test_labels))\n"
   ]
  },
  {
   "cell_type": "markdown",
   "metadata": {
    "id": "JkdRKQnETgLv"
   },
   "source": [
    "## 4- Evaluating the Model\n",
    "We can determine how well the model performed by looking at it's performance on the test data set."
   ]
  },
  {
   "cell_type": "code",
   "execution_count": null,
   "metadata": {
    "id": "6I2vJFiiTkQE"
   },
   "outputs": [],
   "source": [
    "test_loss, test_acc = model.evaluate(test_images,  test_labels, verbose=2)\n",
    "print(test_acc)"
   ]
  },
  {
   "cell_type": "markdown",
   "metadata": {
    "id": "-lKwDlvvUbIm"
   },
   "source": [
    "We fot an accuracy of about 70%. This isn't bad for a simple model like this, but we'll dive into some better approaches for computer vision below.\n"
   ]
  },
  {
   "cell_type": "markdown",
   "metadata": {
    "id": "cstpZFVaY7YH"
   },
   "source": [
    "## 5- Working with Small Datasets\n",
    "In the situation where we don't have millions of images it is difficult to train a CNN from scratch that performs very well. This is why we will learn about a few techniques we can use to train CNN's on small datasets of just a few thousand images."
   ]
  },
  {
   "cell_type": "markdown",
   "metadata": {
    "id": "8D4iWJ17ZRt_"
   },
   "source": [
    "### Data Augmentation\n",
    "To avoid overfitting and create a larger dataset from a smaller one we can use a technique called **data augmentation.** This is simply performing random transformations on our images so that our model can generalize better. These transformations can be things like **compressions**, **rotations**, **stretches** and even **color changes**.\n",
    "\n",
    "Fortunately, keras can help us do this. The code below is an example of data augmentation.\n"
   ]
  },
  {
   "cell_type": "code",
   "execution_count": null,
   "metadata": {},
   "outputs": [],
   "source": [
    "(1,) + (2,3)"
   ]
  },
  {
   "cell_type": "code",
   "execution_count": null,
   "metadata": {
    "id": "_sOet0hQZ-gR"
   },
   "outputs": [],
   "source": [
    "from keras.preprocessing import image\n",
    "from keras.preprocessing.image import ImageDataGenerator\n",
    "\n",
    "# creates a data generator object that transforms images\n",
    "datagen = ImageDataGenerator(\n",
    "rotation_range=40,\n",
    "width_shift_range=0.2,\n",
    "height_shift_range=0.2,\n",
    "shear_range=0.2,\n",
    "zoom_range=0.2,\n",
    "horizontal_flip=True,\n",
    "fill_mode='nearest')\n",
    "\n",
    "# pick an image to transform\n",
    "test_img = train_images[20]          # we test on the image number 21 from the training dataset\n",
    "img = image.img_to_array(test_img)   # convert image to numpy array\n",
    "print(img.shape)\n",
    "img = img.reshape((1,) + img.shape)  # reshape image : \n",
    "\n",
    "i = 0\n",
    "\n",
    "for batch in datagen.flow(img, save_prefix='test', save_format='jpeg'):  # this loops runs forever until we break, saving images to current directory with specified prefix\n",
    "    plt.figure(i)\n",
    "    plot = plt.imshow(image.img_to_array(batch[0]))\n",
    "    i += 1\n",
    "    if i > 4:  # show 4 images\n",
    "        break\n",
    "\n",
    "plt.show()\n"
   ]
  },
  {
   "cell_type": "markdown",
   "metadata": {
    "id": "nc9RyHPYUnSK"
   },
   "source": [
    "### Pretrained Models\n",
    "We would have noticed that the model above takes a few minutes to train in the NoteBook and only gives an accuaracy of ~70%. This is okay but surely there is a way to improve on this.\n",
    "\n",
    "In this section we will talk about using a **pretrained CNN** as apart of our own custom network to improve the accuracy of our model. We know that CNNs alone (with no dense layers) don't do anything other than map the presence of features from our input. This means we can use a pretrained CNN, one trained on millions of images, as the start of our model. This will allow us to have a **very good convolutional base** before adding our own dense layered classifier at the end. In fact, by using this techique we can train a very good classifier for a relatively small dataset (< 10,000 images). This is because the CNN already has a very good idea of what features to look for in an image and can find them very effectively (**very good convolutional base**). So, if we can determine the presence of features all the rest of the model needs to do is determine which combination of features makes a specific image.\n"
   ]
  },
  {
   "cell_type": "markdown",
   "metadata": {
    "id": "u10oZO1oXT6Y"
   },
   "source": [
    "### Fine Tuning\n",
    "When we employ the technique defined above, we will often want to tweak the final layers in our convolutional base to work better for our specific problem. This involves not touching or retraining the earlier layers in our convolutional base but only adjusting the final few. We do this because the first layers in our base are very good at extracting low level features like lines and edges, things that are similar for any kind of image. Where the later layers are better at picking up very specific features like shapes or even eyes. If we adjust the final layers, then we can look for only features relevant to our very specific problem.\n"
   ]
  },
  {
   "cell_type": "markdown",
   "metadata": {
    "id": "XolyariNdj5p"
   },
   "source": [
    "# II) Using a Pretrained Model\n",
    "In this section we will combine the techniques we learned above and use a pretrained model and fine tuning to classify images of dogs and cats using a small dataset.\n",
    "\n",
    "*This tutorial is based on the following guide from the TensorFlow documentation: https://www.tensorflow.org/tutorials/images/transfer_learning*\n",
    "\n",
    "\n"
   ]
  },
  {
   "cell_type": "code",
   "execution_count": null,
   "metadata": {
    "id": "2nRe9qWmgxm7"
   },
   "outputs": [],
   "source": [
    "#Imports\n",
    "import os\n",
    "import numpy as np\n",
    "import matplotlib.pyplot as plt\n",
    "import tensorflow as tf\n",
    "keras = tf.keras"
   ]
  },
  {
   "cell_type": "markdown",
   "metadata": {
    "id": "lUx4I_4jg2Tc"
   },
   "source": [
    "## 1- Dataset\n",
    "We will load the *cats_vs_dogs* dataset from the modoule tensorflow_datatsets.\n",
    "\n",
    "This dataset contains (image, label) pairs where images have different dimensions (not necessarily 32x32 like in the previous example) and 3 color channels.\n"
   ]
  },
  {
   "cell_type": "code",
   "execution_count": null,
   "metadata": {},
   "outputs": [],
   "source": [
    "#!pip install tensorflow_datasets"
   ]
  },
  {
   "cell_type": "code",
   "execution_count": null,
   "metadata": {
    "id": "PuGu50NlgreO"
   },
   "outputs": [],
   "source": [
    "import tensorflow_datasets as tfds\n",
    "tfds.disable_progress_bar()\n",
    "\n",
    "# split the data manually into 80% training, 10% testing, 10% validation\n",
    "(raw_train, raw_validation, raw_test), metadata = tfds.load(\n",
    "    'cats_vs_dogs',\n",
    "    split=['train[:80%]', 'train[80%:90%]', 'train[90%:]'],\n",
    "    with_info=True,\n",
    "    as_supervised=True,\n",
    ")"
   ]
  },
  {
   "cell_type": "code",
   "execution_count": null,
   "metadata": {},
   "outputs": [],
   "source": [
    "print(f\"The shape of raw training dataset is :{raw_train.shape}\")\n",
    "print(f\"The shape of raw validation dataset is :{raw_validation.shape}\")\n",
    "print(f\"The shape of raw testind dataset is :{raw_test.shape}\")"
   ]
  },
  {
   "cell_type": "code",
   "execution_count": null,
   "metadata": {
    "id": "Mk_MpiQyh-as"
   },
   "outputs": [],
   "source": [
    "# creates a function object that we can use to get labels : integers to string\n",
    "get_label_name = metadata.features['label'].int2str  \n",
    "\n",
    "# display 5 images from the dataset\n",
    "for image, label in raw_train.take(5):\n",
    "    plt.figure()\n",
    "    plt.imshow(image)\n",
    "    plt.title(get_label_name(label))"
   ]
  },
  {
   "cell_type": "markdown",
   "metadata": {
    "id": "XCdodmcYiPOF"
   },
   "source": [
    "## 2- Data Preprocessing\n",
    "Since the sizes of our images are all different, we need to convert them all to the same size. We can create a function that will do just that for us below.\n"
   ]
  },
  {
   "cell_type": "code",
   "execution_count": null,
   "metadata": {
    "id": "tcoKn1VUieqx"
   },
   "outputs": [],
   "source": [
    "IMG_SIZE = 160 # All images will be resized to 160x160\n",
    "\n",
    "def format_example(image, label):\n",
    "    \"\"\"\n",
    "    returns an image that is reshaped to IMG_SIZE\n",
    "    \"\"\"\n",
    "    image = tf.cast(image, tf.float32) \n",
    "    image = (image/127.5) - 1    # (image *2 / 255)\n",
    "    image = tf.image.resize(image, (IMG_SIZE, IMG_SIZE))\n",
    "    return image, label"
   ]
  },
  {
   "cell_type": "markdown",
   "metadata": {
    "id": "wwIB21lailXh"
   },
   "source": [
    "Now we can apply this function to all our images using ```.map()```."
   ]
  },
  {
   "cell_type": "code",
   "execution_count": null,
   "metadata": {
    "id": "0E8iqYOAipdU"
   },
   "outputs": [],
   "source": [
    "train = raw_train.map(format_example)\n",
    "validation = raw_validation.map(format_example)\n",
    "test = raw_test.map(format_example)"
   ]
  },
  {
   "cell_type": "markdown",
   "metadata": {
    "id": "QORLTVNaiqym"
   },
   "source": [
    "Let's have a look at our images now."
   ]
  },
  {
   "cell_type": "code",
   "execution_count": null,
   "metadata": {
    "id": "dU5JIa2Jiv9U"
   },
   "outputs": [],
   "source": [
    "for image, label in train.take(2):\n",
    "    plt.figure()\n",
    "    plt.imshow(image)\n",
    "    plt.title(get_label_name(label))"
   ]
  },
  {
   "cell_type": "markdown",
   "metadata": {
    "id": "iFnFVaNQi7Vq"
   },
   "source": [
    "Finally we will shuffle and batch the images."
   ]
  },
  {
   "cell_type": "code",
   "execution_count": null,
   "metadata": {
    "id": "v5ZIhkFPi_Pb"
   },
   "outputs": [],
   "source": [
    "BATCH_SIZE = 32   # Each bacth will have 32 images\n",
    "SHUFFLE_BUFFER_SIZE = 1000\n",
    "\n",
    "# shuffle the training dataset and divide it into batches\n",
    "train_batches = train.shuffle(SHUFFLE_BUFFER_SIZE).batch(BATCH_SIZE)\n",
    "\n",
    "# divide the validation and testing datasets into batches\n",
    "validation_batches = validation.batch(BATCH_SIZE)\n",
    "test_batches = test.batch(BATCH_SIZE)"
   ]
  },
  {
   "cell_type": "markdown",
   "metadata": {
    "id": "6QxI-fOAjDzC"
   },
   "source": [
    "Now if we look at the shape of an original image vs the new image we will see it has been changed."
   ]
  },
  {
   "cell_type": "code",
   "execution_count": null,
   "metadata": {
    "id": "zyqrCYNOjY9v"
   },
   "outputs": [],
   "source": [
    "for img, label in raw_train.take(2):\n",
    "    print(\"Original shape:\", img.shape)\n",
    "\n",
    "for img, label in train.take(2):\n",
    "    print(\"New shape:\", img.shape)"
   ]
  },
  {
   "cell_type": "markdown",
   "metadata": {
    "id": "NMpKJ3Xbj4BW"
   },
   "source": [
    "## 3- Picking a Pretrained Model\n",
    "The model we are going to use as the convolutional base for our model is the **MobileNet V2** developed at Google. This model is trained on 1.4 million images and has 1000 different classes.\n",
    "\n",
    "We want to use this model but only its convolutional base. So, when we load in the model, we'll specify that **we don't want to load the top (classification) layer**. We'll tell the model what input shape to expect and to use the predetermined weights from *imagenet* (Googles dataset).\n",
    "\n"
   ]
  },
  {
   "cell_type": "code",
   "execution_count": null,
   "metadata": {
    "id": "2a09os6dkokI"
   },
   "outputs": [],
   "source": [
    "IMG_SIZE = 160\n",
    "IMG_SHAPE = (IMG_SIZE, IMG_SIZE, 3)  # 3 channels\n",
    "\n",
    "# Create the base model from the pre-trained model MobileNet V2\n",
    "base_model = tf.keras.applications.MobileNetV2(input_shape=IMG_SHAPE,\n",
    "                                               include_top=False,      # don't include the classifier (i.e. the top layer)\n",
    "                                               weights='imagenet')     # use the predetermined weights from imagenet"
   ]
  },
  {
   "cell_type": "code",
   "execution_count": null,
   "metadata": {
    "id": "uRvMuWoFR2CO"
   },
   "outputs": [],
   "source": [
    "base_model.summary()"
   ]
  },
  {
   "cell_type": "markdown",
   "metadata": {
    "id": "ckYqfl7Vky3S"
   },
   "source": [
    "At this point this `base_model` will simply output a shape $(32, 5, 5, 1280)$ tensor that is a feature extraction from our original $(1, 160, 160, 3)$ image ($1$ is for one image). The $32$ means that we have $32$ layers of different filters/features."
   ]
  },
  {
   "cell_type": "code",
   "execution_count": null,
   "metadata": {
    "id": "yojo6ONzlFGF"
   },
   "outputs": [],
   "source": [
    "for image, _ in train_batches.take(1):\n",
    "    pass\n",
    "\n",
    "feature_batch = base_model(image)\n",
    "print(feature_batch.shape)"
   ]
  },
  {
   "cell_type": "markdown",
   "metadata": {
    "id": "oQ2kn1P_lhsg"
   },
   "source": [
    "## 4- Freezing the Base\n",
    "The term **freezing** refers to disabling the training property of a layer. It simply means we won’t make any changes to the weights of any layers that are frozen during training. This is important as we don't want to change the convolutional base that already has learned weights.\n",
    "\n"
   ]
  },
  {
   "cell_type": "code",
   "execution_count": null,
   "metadata": {
    "id": "6hXctqtYl8o5"
   },
   "outputs": [],
   "source": [
    "base_model.trainable = False"
   ]
  },
  {
   "cell_type": "code",
   "execution_count": null,
   "metadata": {
    "id": "1jIGFXOrl9wc"
   },
   "outputs": [],
   "source": [
    "base_model.summary()"
   ]
  },
  {
   "cell_type": "markdown",
   "metadata": {
    "id": "b7UJLbJ7mJzw"
   },
   "source": [
    "## 5- Adding our Classifier\n",
    "Now that we have our base layer setup, we can add the classifier. Instead of flattening the feature map of the base layer we will use a global average pooling layer that will average the entire $5\\times5$ area of each 2D feature map and return to us a single 1280 element vector per filter.  \n"
   ]
  },
  {
   "cell_type": "code",
   "execution_count": null,
   "metadata": {
    "id": "3uUwG5wrnFD6"
   },
   "outputs": [],
   "source": [
    "global_average_layer = tf.keras.layers.GlobalAveragePooling2D()"
   ]
  },
  {
   "cell_type": "markdown",
   "metadata": {
    "id": "ejxd7rjInIRp"
   },
   "source": [
    "Finally, we will add the prediction layer that will be a single dense neuron. We can do this because we only have two classes to predict for (dogs and cats).\n"
   ]
  },
  {
   "cell_type": "code",
   "execution_count": null,
   "metadata": {
    "id": "GA-iVZj9nH_N"
   },
   "outputs": [],
   "source": [
    "prediction_layer = keras.layers.Dense(units=1)"
   ]
  },
  {
   "cell_type": "markdown",
   "metadata": {
    "id": "Dn9G9KiFnXu6"
   },
   "source": [
    "Now we will combine these layers together in a model."
   ]
  },
  {
   "cell_type": "code",
   "execution_count": null,
   "metadata": {
    "id": "E_IJucQNnXBK"
   },
   "outputs": [],
   "source": [
    "model = tf.keras.Sequential([\n",
    "    # pre-trained convolutional base\n",
    "    base_model,\n",
    "    # average pooling layer\n",
    "    global_average_layer,\n",
    "    # dense neuron for output\n",
    "    prediction_layer\n",
    "])"
   ]
  },
  {
   "cell_type": "code",
   "execution_count": null,
   "metadata": {
    "id": "fLYdAL2uSt_a"
   },
   "outputs": [],
   "source": [
    "model.summary()"
   ]
  },
  {
   "cell_type": "markdown",
   "metadata": {
    "id": "NHepCsPXnpYZ"
   },
   "source": [
    "## 6- Training the Model\n",
    "Now we will train and compile the model. We will use a very small learning rate to ensure that the model does not have any major changes made to it."
   ]
  },
  {
   "cell_type": "code",
   "execution_count": null,
   "metadata": {
    "id": "GQhg2WxHnxra"
   },
   "outputs": [],
   "source": [
    "base_learning_rate = 0.0001\n",
    "model.compile(optimizer=tf.keras.optimizers.RMSprop(learning_rate=base_learning_rate),\n",
    "              loss=tf.keras.losses.BinaryCrossentropy(from_logits=True),\n",
    "              metrics=['accuracy'])"
   ]
  },
  {
   "cell_type": "code",
   "execution_count": null,
   "metadata": {
    "id": "8Fx9nySdoZuL"
   },
   "outputs": [],
   "source": [
    "# We can evaluate the model right now to see how it does before training it on our new images\n",
    "initial_epochs = 3\n",
    "validation_steps=20\n",
    "\n",
    "loss0,accuracy0 = model.evaluate(validation_batches, steps = validation_steps)"
   ]
  },
  {
   "cell_type": "code",
   "execution_count": null,
   "metadata": {
    "id": "edMXObctojl6"
   },
   "outputs": [],
   "source": [
    "# Now we can train it on our images\n",
    "history = model.fit(train_batches,\n",
    "                    epochs=initial_epochs,\n",
    "                    validation_data=validation_batches)\n",
    "\n",
    "acc = history.history['accuracy']\n",
    "print(acc)"
   ]
  },
  {
   "cell_type": "code",
   "execution_count": null,
   "metadata": {
    "id": "VUUt3AxA2lf2"
   },
   "outputs": [],
   "source": [
    "model.save(\"dogs_vs_cats.h5\")  # we can save the model and reload it at anytime in the future\n",
    "new_model = tf.keras.models.load_model('dogs_vs_cats.h5')"
   ]
  },
  {
   "cell_type": "markdown",
   "metadata": {
    "id": "m8YcdmWUvYae"
   },
   "source": [
    "# III) Object Detection\n",
    "If you'd like to learn how you can perform object detection and recognition with tensorflow check out the guide below.\n",
    "\n",
    "https://github.com/tensorflow/models/tree/master/research/object_detection"
   ]
  },
  {
   "cell_type": "markdown",
   "metadata": {
    "id": "oEiX-D2f2tvI"
   },
   "source": [
    "# IV) Sources\n",
    "1. “Convolutional Neural Network (CNN) &nbsp;: &nbsp; TensorFlow Core.” TensorFlow, www.tensorflow.org/tutorials/images/cnn.\n",
    "2. “Transfer Learning with a Pretrained ConvNet &nbsp;: &nbsp; TensorFlow Core.” TensorFlow, www.tensorflow.org/tutorials/images/transfer_learning.\n",
    "3. Chollet François. Deep Learning with Python. Manning Publications Co., 2018.\n",
    "\n"
   ]
  },
  {
   "cell_type": "code",
   "execution_count": null,
   "metadata": {},
   "outputs": [],
   "source": []
  }
 ],
 "metadata": {
  "colab": {
   "provenance": []
  },
  "kernelspec": {
   "display_name": "Python 3 (ipykernel)",
   "language": "python",
   "name": "python3"
  },
  "language_info": {
   "codemirror_mode": {
    "name": "ipython",
    "version": 3
   },
   "file_extension": ".py",
   "mimetype": "text/x-python",
   "name": "python",
   "nbconvert_exporter": "python",
   "pygments_lexer": "ipython3",
   "version": "3.10.10"
  }
 },
 "nbformat": 4,
 "nbformat_minor": 1
}
